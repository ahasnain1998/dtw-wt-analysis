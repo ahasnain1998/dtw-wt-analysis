{
 "cells": [
  {
   "cell_type": "markdown",
   "id": "3194204f",
   "metadata": {},
   "source": [
    "## Importing the Libraries"
   ]
  },
  {
   "cell_type": "code",
   "execution_count": null,
   "id": "a622f4e3",
   "metadata": {},
   "outputs": [],
   "source": [
    "import os\n",
    "import pandas as pd\n",
    "import re\n",
    "from fastdtw import fastdtw\n",
    "from scipy.spatial.distance import euclidean\n",
    "import plotly.express as px\n",
    "import numpy as np\n",
    "from sklearn.cluster import KMeans\n",
    "from sklearn.manifold import MDS\n",
    "from sklearn.preprocessing import StandardScaler\n",
    "from sklearn.metrics import silhouette_score, davies_bouldin_score\n",
    "import matplotlib.pyplot as plt\n",
    "from sklearn.cluster import AgglomerativeClustering\n",
    "from matplotlib.colors import ListedColormap\n",
    "from scipy.spatial.distance import squareform\n",
    "from scipy.cluster.hierarchy import dendrogram, linkage\n",
    "import matplotlib.patches as mpatches"
   ]
  },
  {
   "cell_type": "markdown",
   "id": "c631e585",
   "metadata": {},
   "source": [
    "## Preprocessing (0 for residue without contacts and 1 for residue with contacts)"
   ]
  },
  {
   "cell_type": "code",
   "execution_count": null,
   "id": "1c67ca7c",
   "metadata": {},
   "outputs": [],
   "source": [
    "\n",
    "# loading the data and preprocessing it\n",
    "base_directory = 'DTW/11-WT'\n",
    "chain_folders = ['contacts_chain_A', 'contacts_chain_B']\n",
    "\n",
    "# Iterate over each chain folder and overwrite the CSV files checking for residue contacts if there is a contact or not\n",
    "# If there is a contact, it will be 1, otherwise it will be 0\n",
    "for chain in chain_folders:\n",
    "    chain_directory = os.path.join(base_directory, chain)\n",
    "    \n",
    "    for filename in os.listdir(chain_directory):\n",
    "        if filename.endswith('.csv'):\n",
    "            filepath = os.path.join(chain_directory, filename)\n",
    "            df = pd.read_csv(filepath)\n",
    "            residue_columns = [col for col in df.columns if not col.startswith('Frame.')]\n",
    "            for column in residue_columns:\n",
    "                df[column] = df[column].map(lambda x: 1 if x != 0 else 0)\n",
    "            df.to_csv(filepath, index=False)\n"
   ]
  },
  {
   "cell_type": "markdown",
   "id": "a9ac7e16",
   "metadata": {},
   "source": [
    "## Concatenating the chain A and B of the WT "
   ]
  },
  {
   "cell_type": "code",
   "execution_count": null,
   "id": "2805a0b5",
   "metadata": {},
   "outputs": [],
   "source": [
    "# this codeblock concatenates the chain A and B of the WT\n",
    "# folder paths\n",
    "folder_path_A = 'DTW/11-WT/contacts_chain_A'\n",
    "folder_path_B = 'DTW/11-WT/contacts_chain_B'\n",
    "\n",
    "# Helper function to extract the number from the file name\n",
    "def extract_number(file_name):\n",
    "    match = re.search(r'(\\d+)', file_name)\n",
    "    return match.group(1) if match else None\n",
    "\n",
    "# Get lists of CSV files from both folders\n",
    "files_A = [f for f in os.listdir(folder_path_A) if f.endswith('.csv')]\n",
    "files_B = [f for f in os.listdir(folder_path_B) if f.endswith('.csv')]\n",
    "\n",
    "# Create a dictionary to group files by their extracted number\n",
    "file_groups = {}\n",
    "\n",
    "# Group files from folder A, loops over the files of chain A\n",
    "for file_name in files_A:\n",
    "    number = extract_number(file_name)\n",
    "    if number:\n",
    "        file_path = os.path.join(folder_path_A, file_name)\n",
    "        file_groups.setdefault(number, {}).update({'A': file_path})\n",
    "\n",
    "# Group files from folder B, loops over the files\n",
    "for file_name in files_B:\n",
    "    number = extract_number(file_name)\n",
    "    if number:\n",
    "        file_path = os.path.join(folder_path_B, file_name)\n",
    "        file_groups.setdefault(number, {}).update({'B': file_path})\n",
    "\n",
    "# Loop through each group and concatenate matching files\n",
    "\n",
    "for number, paths in file_groups.items():\n",
    "    if 'A' in paths and 'B' in paths: # Checks if both A and B files exist \n",
    "        # Read the CSV files\n",
    "        df_A = pd.read_csv(paths['A'])\n",
    "        df_B = pd.read_csv(paths['B'])\n",
    "        \n",
    "        # Concatenate DataFrames horizontally (along columns)\n",
    "        concatenated_df = pd.concat([df_A, df_B], axis=1) #concatenation works with list of DataFrames\n",
    "\n",
    "        # Save the concatenated DataFrame to the specified output path\n",
    "        output_path = f'/DTW/data_cleaned/contacts_chain_AB_{number}.csv'\n",
    "        concatenated_df.to_csv(output_path, index=False)\n",
    "        \n",
    "\n"
   ]
  },
  {
   "cell_type": "markdown",
   "id": "9598e157",
   "metadata": {},
   "source": [
    "## Calculation and normalization of the distance matrix"
   ]
  },
  {
   "cell_type": "code",
   "execution_count": null,
   "id": "39b6ef6f",
   "metadata": {},
   "outputs": [],
   "source": [
    "# Function to load and select only the contact columns\n",
    "def select_contact_columns(file_path):\n",
    "    df = pd.read_csv(file_path)\n",
    "    # Select only columns that start with \"# Contacts\"\n",
    "    contact_columns = [col for col in df.columns if col.startswith('# Contacts')]\n",
    "    return df[contact_columns]\n",
    "#/Users/aliakbarhasnain/Desktop/unsupervised_learning/notebooks/dtw_calculation_WT.ipynb\n",
    "# Function to calculate DTW distance and alignment length\n",
    "def calculate_dtw_distance(data1, data2):\n",
    "    contact_array1 = data1.to_numpy()\n",
    "    contact_array2 = data2.to_numpy()\n",
    "    # Convert each array into a list of tuples for multi-dimensional DTW\n",
    "    data1_tuples = [tuple(row) for row in contact_array1]\n",
    "    data2_tuples = [tuple(row) for row in contact_array2]\n",
    "    # Compute the DTW distance and the alignment path\n",
    "    distance, path = fastdtw(data1_tuples, data2_tuples, dist=euclidean)\n",
    "    alignment_length = len(path)  # Length of the alignment\n",
    "    return distance, alignment_length\n",
    "\n",
    "# Function to calculate and normalize pairwise distances between all CSVs in a folder\n",
    "def calculate_pairwise_distances(folder_path):\n",
    "    # Get all CSV file paths in the folder\n",
    "    csv_files = [f for f in os.listdir(folder_path) if f.endswith('.csv')]\n",
    "    \n",
    "    # Load the contact data from each CSV file\n",
    "    group_data = [select_contact_columns(os.path.join(folder_path, file)) for file in csv_files]\n",
    "    \n",
    "    # Initialize a distance matrix (with zeros initially)\n",
    "    num_files = len(csv_files)\n",
    "    distance_matrix = pd.DataFrame(0.0, index=csv_files, columns=csv_files)\n",
    "    \n",
    "    # Calculate distances for each pair of CSV files\n",
    "    for i in range(num_files):\n",
    "        for j in range(i, num_files):\n",
    "            distance, alignment_length = calculate_dtw_distance(group_data[i], group_data[j])\n",
    "            # Normalize the distance by the alignment length\n",
    "            normalized_distance = distance / alignment_length\n",
    "            # Store the normalized distance in both [i, j] and [j, i] positions\n",
    "            distance_matrix.iloc[i, j] = normalized_distance\n",
    "            distance_matrix.iloc[j, i] = normalized_distance\n",
    "    \n",
    "    return distance_matrix\n",
    "\n",
    "# Defining the folder containing your CSV files\n",
    "folder_path = '/DTW/data_cleaned'\n",
    "\n",
    "# Calculate the normalized pairwise distances\n",
    "distance_matrix = calculate_pairwise_distances(folder_path)\n",
    "\n",
    "# Saving the result to a CSV file\n",
    "distance_matrix.to_csv('/DTW/normalized_output.csv')\n",
    "\n",
    "\n"
   ]
  },
  {
   "cell_type": "markdown",
   "id": "c760c55a",
   "metadata": {},
   "source": [
    "## K-Means clustering with validation"
   ]
  },
  {
   "cell_type": "code",
   "execution_count": null,
   "id": "e7e9ac1d",
   "metadata": {},
   "outputs": [
    {
     "data": {
      "application/vnd.plotly.v1+json": {
       "config": {
        "plotlyServerURL": "https://plot.ly"
       },
       "data": [
        {
         "customdata": [
          [
           "contacts_chain_AB_69.csv",
           "T1"
          ],
          [
           "contacts_chain_AB_8.csv",
           "T1"
          ],
          [
           "contacts_chain_AB_9.csv",
           "T1"
          ],
          [
           "contacts_chain_AB_41.csv",
           "T1"
          ],
          [
           "contacts_chain_AB_4.csv",
           "T1"
          ],
          [
           "contacts_chain_AB_5.csv",
           "T1"
          ],
          [
           "contacts_chain_AB_59.csv",
           "T1"
          ],
          [
           "contacts_chain_AB_65.csv",
           "T1"
          ],
          [
           "contacts_chain_AB_67.csv",
           "T1"
          ],
          [
           "contacts_chain_AB_6.csv",
           "T1"
          ],
          [
           "contacts_chain_AB_72.csv",
           "T1"
          ],
          [
           "contacts_chain_AB_66.csv",
           "T1"
          ],
          [
           "contacts_chain_AB_62.csv",
           "T1"
          ],
          [
           "contacts_chain_AB_54.csv",
           "T1"
          ],
          [
           "contacts_chain_AB_2.csv",
           "T1"
          ],
          [
           "contacts_chain_AB_49.csv",
           "T1"
          ],
          [
           "contacts_chain_AB_0.csv",
           "T1"
          ],
          [
           "contacts_chain_AB_60.csv",
           "T1"
          ],
          [
           "contacts_chain_AB_74.csv",
           "T1"
          ],
          [
           "contacts_chain_AB_13.csv",
           "T1"
          ],
          [
           "contacts_chain_AB_12.csv",
           "T1"
          ],
          [
           "contacts_chain_AB_38.csv",
           "T1"
          ],
          [
           "contacts_chain_AB_39.csv",
           "T1"
          ],
          [
           "contacts_chain_AB_11.csv",
           "T1"
          ],
          [
           "contacts_chain_AB_29.csv",
           "T1"
          ],
          [
           "contacts_chain_AB_15.csv",
           "T1"
          ],
          [
           "contacts_chain_AB_14.csv",
           "T1"
          ],
          [
           "contacts_chain_AB_63.csv",
           "T1"
          ],
          [
           "contacts_chain_AB_68.csv",
           "T1"
          ],
          [
           "contacts_chain_AB_17.csv",
           "T1"
          ],
          [
           "contacts_chain_AB_56.csv",
           "T1"
          ],
          [
           "contacts_chain_AB_27.csv",
           "T1"
          ],
          [
           "contacts_chain_AB_25.csv",
           "T1"
          ],
          [
           "contacts_chain_AB_31.csv",
           "T1"
          ],
          [
           "contacts_chain_AB_24.csv",
           "T1"
          ],
          [
           "contacts_chain_AB_20.csv",
           "T1"
          ],
          [
           "contacts_chain_AB_34.csv",
           "T1"
          ],
          [
           "contacts_chain_AB_35.csv",
           "T1"
          ],
          [
           "contacts_chain_AB_21.csv",
           "T1"
          ],
          [
           "contacts_chain_AB_42.csv",
           "T1"
          ],
          [
           "contacts_chain_AB_22.csv",
           "T1"
          ],
          [
           "contacts_chain_AB_45.csv",
           "T1"
          ],
          [
           "contacts_chain_AB_44.csv",
           "T1"
          ],
          [
           "contacts_chain_AB_23.csv",
           "T1"
          ],
          [
           "contacts_chain_AB_46.csv",
           "T1"
          ],
          [
           "contacts_chain_AB_52.csv",
           "T1"
          ],
          [
           "contacts_chain_AB_43.csv",
           "T1"
          ],
          [
           "contacts_chain_AB_47.csv",
           "T1"
          ],
          [
           "contacts_chain_AB_53.csv",
           "T1"
          ]
         ],
         "hovertemplate": "Group=%{customdata[1]}<br>Trajectory=%{customdata[0]}<extra></extra>",
         "legendgroup": "T1",
         "marker": {
          "color": "rgb(127, 60, 141)",
          "symbol": "circle"
         },
         "mode": "markers",
         "name": "T1",
         "orientation": "v",
         "showlegend": true,
         "type": "scatter",
         "x": [
          -0.03200594594749306,
          -0.17159921585286983,
          -0.06407555752494705,
          -0.21921873646662568,
          -0.09158687773056418,
          -0.3315703479386238,
          0.11340129508743789,
          0.38704096492261003,
          -0.1409589612707112,
          -0.08228052930757027,
          0.11881403218212122,
          -0.12411872068832173,
          0.23405691289864877,
          0.05393363531405038,
          0.08171421252809542,
          -0.15389180213589304,
          0.5655551328808224,
          0.2891836335118266,
          -0.20598052230939193,
          0.21523439297194383,
          -0.04784783560980177,
          0.10579787974396793,
          0.1950122924218412,
          0.31675826259125417,
          -0.14815528727402483,
          -0.1970820784708945,
          0.306384968614399,
          -0.002189317258927567,
          -0.2123706204141248,
          -0.14026278692445304,
          -0.18695675681297724,
          -0.19277268492486965,
          -0.04314171661296869,
          -0.11742479114910173,
          0.13826878114912192,
          0.198970318219738,
          0.28329270266492435,
          -0.04888663387655525,
          -0.22970213708077372,
          -0.5704079712700306,
          -0.040974105191332745,
          0.1694087006553195,
          -0.016531799969429814,
          0.02388055682182634,
          -0.2793305846187036,
          -0.1327298967926529,
          0.13460165281569508,
          0.2664938786981106,
          0.222213198811671
         ],
         "xaxis": "x",
         "y": [
          0.15678543191896527,
          0.018696467145754146,
          0.036432788600026446,
          -0.028765359721504152,
          -0.40410412803715706,
          -0.10063385362086158,
          0.056145621027728514,
          0.06447345316607549,
          0.3451439232276542,
          -0.031246291987754467,
          -0.05798705910325584,
          0.02850511434737655,
          0.2285907658917907,
          -0.19646388047488245,
          0.16638761797410423,
          0.08356272474401034,
          0.3219781080444364,
          0.2548184807987433,
          -0.40876114308410466,
          0.25523764226501683,
          0.06868581773033035,
          -0.03096762337215153,
          -0.20385359513560297,
          -0.16020940226683808,
          0.03096002139135169,
          0.0009231567845145025,
          -0.187188689665748,
          0.05354400554938568,
          -0.13891469341883284,
          -0.1083068312090363,
          0.06315041602107863,
          0.03544504706065328,
          -0.04932279407248627,
          0.051318330436028424,
          -0.12440606636664539,
          -0.15475896189907437,
          -0.1783687285075166,
          -0.01626180603310827,
          -0.016042944171348047,
          -0.2857444521591767,
          0.004213728047012078,
          0.03537073991966231,
          -0.1359000477056536,
          -0.09458386215028204,
          -0.023561514113099043,
          0.035912926000915675,
          0.05850674022153711,
          -0.1371840896447747,
          -0.1628979780844666
         ],
         "yaxis": "y"
        },
        {
         "customdata": [
          [
           "contacts_chain_AB_28.csv",
           "T2"
          ],
          [
           "contacts_chain_AB_26.csv",
           "T2"
          ],
          [
           "contacts_chain_AB_33.csv",
           "T2"
          ],
          [
           "contacts_chain_AB_10.csv",
           "T2"
          ],
          [
           "contacts_chain_AB_18.csv",
           "T2"
          ],
          [
           "contacts_chain_AB_1.csv",
           "T2"
          ],
          [
           "contacts_chain_AB_16.csv",
           "T2"
          ],
          [
           "contacts_chain_AB_32.csv",
           "T2"
          ],
          [
           "contacts_chain_AB_36.csv",
           "T2"
          ],
          [
           "contacts_chain_AB_3.csv",
           "T2"
          ],
          [
           "contacts_chain_AB_71.csv",
           "T2"
          ],
          [
           "contacts_chain_AB_37.csv",
           "T2"
          ],
          [
           "contacts_chain_AB_73.csv",
           "T2"
          ]
         ],
         "hovertemplate": "Group=%{customdata[1]}<br>Trajectory=%{customdata[0]}<extra></extra>",
         "legendgroup": "T2",
         "marker": {
          "color": "rgb(17, 165, 121)",
          "symbol": "circle"
         },
         "mode": "markers",
         "name": "T2",
         "orientation": "v",
         "showlegend": true,
         "type": "scatter",
         "x": [
          0.0026746197785654895,
          0.5335417206070252,
          -0.2484977552507942,
          -0.051344873610214045,
          -0.29204891942287725,
          0.4589884677091442,
          -0.08893203519839664,
          -0.037693586452557645,
          0.1283788730946822,
          0.08326908225741085,
          -0.0655397000569359,
          -0.09948648792504694,
          0.19379224472273024
         ],
         "xaxis": "x",
         "y": [
          -0.09181702326846951,
          0.15253259459641602,
          0.35559958683147647,
          0.028129425620402968,
          -0.05944241395676958,
          -0.13077308438296176,
          0.09384730558045663,
          0.7250961273536384,
          -0.15496687318216376,
          -0.126264684289385,
          0.15422662590840863,
          0.02413680050859104,
          -0.0715636739852042
         ],
         "yaxis": "y"
        },
        {
         "customdata": [
          [
           "contacts_chain_AB_64.csv",
           "T3"
          ],
          [
           "contacts_chain_AB_30.csv",
           "T3"
          ],
          [
           "contacts_chain_AB_57.csv",
           "T3"
          ],
          [
           "contacts_chain_AB_7.csv",
           "T3"
          ],
          [
           "contacts_chain_AB_19.csv",
           "T3"
          ]
         ],
         "hovertemplate": "Group=%{customdata[1]}<br>Trajectory=%{customdata[0]}<extra></extra>",
         "legendgroup": "T3",
         "marker": {
          "color": "rgb(57, 105, 172)",
          "symbol": "circle"
         },
         "mode": "markers",
         "name": "T3",
         "orientation": "v",
         "showlegend": true,
         "type": "scatter",
         "x": [
          0.12014176217527495,
          -0.14751120443631846,
          -0.039035936357018616,
          0.282887788621766,
          0.04460423566124867
         ],
         "xaxis": "x",
         "y": [
          -0.41848718767822424,
          -0.050606074024002135,
          0.15735070824337694,
          -0.20737685918582838,
          -0.20474142043307855
         ],
         "yaxis": "y"
        },
        {
         "customdata": [
          [
           "contacts_chain_AB_61.csv",
           "T4"
          ],
          [
           "contacts_chain_AB_70.csv",
           "T4"
          ],
          [
           "contacts_chain_AB_58.csv",
           "T4"
          ],
          [
           "contacts_chain_AB_48.csv",
           "T4"
          ]
         ],
         "hovertemplate": "Group=%{customdata[1]}<br>Trajectory=%{customdata[0]}<extra></extra>",
         "legendgroup": "T4",
         "marker": {
          "color": "rgb(242, 183, 1)",
          "symbol": "circle"
         },
         "mode": "markers",
         "name": "T4",
         "orientation": "v",
         "showlegend": true,
         "type": "scatter",
         "x": [
          0.03306474238260186,
          0.10818885456836747,
          0.09448972205215458,
          -0.2887916113034173
         ],
         "xaxis": "x",
         "y": [
          0.06383957828225953,
          -0.06871789523689796,
          -0.03641338986292039,
          0.10544418073275345
         ],
         "yaxis": "y"
        },
        {
         "customdata": [
          [
           "contacts_chain_AB_50.csv",
           "T5"
          ],
          [
           "contacts_chain_AB_51.csv",
           "T5"
          ]
         ],
         "hovertemplate": "Group=%{customdata[1]}<br>Trajectory=%{customdata[0]}<extra></extra>",
         "legendgroup": "T5",
         "marker": {
          "color": "rgb(231, 63, 116)",
          "symbol": "circle"
         },
         "mode": "markers",
         "name": "T5",
         "orientation": "v",
         "showlegend": true,
         "type": "scatter",
         "x": [
          -0.0939311791373655,
          -0.08424890082311112
         ],
         "xaxis": "x",
         "y": [
          0.013493188528065289,
          0.08382421162734972
         ],
         "yaxis": "y"
        },
        {
         "customdata": [
          [
           "contacts_chain_AB_40.csv",
           "T6"
          ]
         ],
         "hovertemplate": "Group=%{customdata[1]}<br>Trajectory=%{customdata[0]}<extra></extra>",
         "legendgroup": "T6",
         "marker": {
          "color": "rgb(128, 186, 90)",
          "symbol": "circle"
         },
         "mode": "markers",
         "name": "T6",
         "orientation": "v",
         "showlegend": true,
         "type": "scatter",
         "x": [
          -0.4615304690641123
         ],
         "xaxis": "x",
         "y": [
          0.5411082946418013
         ],
         "yaxis": "y"
        },
        {
         "customdata": [
          [
           "contacts_chain_AB_55.csv",
           "T7"
          ]
         ],
         "hovertemplate": "Group=%{customdata[1]}<br>Trajectory=%{customdata[0]}<extra></extra>",
         "legendgroup": "T7",
         "marker": {
          "color": "rgb(230, 131, 16)",
          "symbol": "circle"
         },
         "mode": "markers",
         "name": "T7",
         "orientation": "v",
         "showlegend": true,
         "type": "scatter",
         "x": [
          -0.28139263867169717
         ],
         "xaxis": "x",
         "y": [
          0.10418867871990799
         ],
         "yaxis": "y"
        }
       ],
       "layout": {
        "autosize": false,
        "height": 800,
        "legend": {
         "orientation": "v",
         "title": {
          "text": "Groups"
         },
         "tracegroupgap": 0,
         "x": 1.02,
         "xanchor": "left",
         "y": 1,
         "yanchor": "top"
        },
        "margin": {
         "b": 50,
         "l": 50,
         "pad": 10,
         "r": 50,
         "t": 50
        },
        "paper_bgcolor": "white",
        "plot_bgcolor": "white",
        "shapes": [
         {
          "line": {
           "color": "black",
           "width": 2
          },
          "type": "rect",
          "x0": 0,
          "x1": 1,
          "xref": "paper",
          "y0": 0,
          "y1": 1,
          "yref": "paper"
         }
        ],
        "template": {
         "data": {
          "bar": [
           {
            "error_x": {
             "color": "#2a3f5f"
            },
            "error_y": {
             "color": "#2a3f5f"
            },
            "marker": {
             "line": {
              "color": "#E5ECF6",
              "width": 0.5
             },
             "pattern": {
              "fillmode": "overlay",
              "size": 10,
              "solidity": 0.2
             }
            },
            "type": "bar"
           }
          ],
          "barpolar": [
           {
            "marker": {
             "line": {
              "color": "#E5ECF6",
              "width": 0.5
             },
             "pattern": {
              "fillmode": "overlay",
              "size": 10,
              "solidity": 0.2
             }
            },
            "type": "barpolar"
           }
          ],
          "carpet": [
           {
            "aaxis": {
             "endlinecolor": "#2a3f5f",
             "gridcolor": "white",
             "linecolor": "white",
             "minorgridcolor": "white",
             "startlinecolor": "#2a3f5f"
            },
            "baxis": {
             "endlinecolor": "#2a3f5f",
             "gridcolor": "white",
             "linecolor": "white",
             "minorgridcolor": "white",
             "startlinecolor": "#2a3f5f"
            },
            "type": "carpet"
           }
          ],
          "choropleth": [
           {
            "colorbar": {
             "outlinewidth": 0,
             "ticks": ""
            },
            "type": "choropleth"
           }
          ],
          "contour": [
           {
            "colorbar": {
             "outlinewidth": 0,
             "ticks": ""
            },
            "colorscale": [
             [
              0,
              "#0d0887"
             ],
             [
              0.1111111111111111,
              "#46039f"
             ],
             [
              0.2222222222222222,
              "#7201a8"
             ],
             [
              0.3333333333333333,
              "#9c179e"
             ],
             [
              0.4444444444444444,
              "#bd3786"
             ],
             [
              0.5555555555555556,
              "#d8576b"
             ],
             [
              0.6666666666666666,
              "#ed7953"
             ],
             [
              0.7777777777777778,
              "#fb9f3a"
             ],
             [
              0.8888888888888888,
              "#fdca26"
             ],
             [
              1,
              "#f0f921"
             ]
            ],
            "type": "contour"
           }
          ],
          "contourcarpet": [
           {
            "colorbar": {
             "outlinewidth": 0,
             "ticks": ""
            },
            "type": "contourcarpet"
           }
          ],
          "heatmap": [
           {
            "colorbar": {
             "outlinewidth": 0,
             "ticks": ""
            },
            "colorscale": [
             [
              0,
              "#0d0887"
             ],
             [
              0.1111111111111111,
              "#46039f"
             ],
             [
              0.2222222222222222,
              "#7201a8"
             ],
             [
              0.3333333333333333,
              "#9c179e"
             ],
             [
              0.4444444444444444,
              "#bd3786"
             ],
             [
              0.5555555555555556,
              "#d8576b"
             ],
             [
              0.6666666666666666,
              "#ed7953"
             ],
             [
              0.7777777777777778,
              "#fb9f3a"
             ],
             [
              0.8888888888888888,
              "#fdca26"
             ],
             [
              1,
              "#f0f921"
             ]
            ],
            "type": "heatmap"
           }
          ],
          "heatmapgl": [
           {
            "colorbar": {
             "outlinewidth": 0,
             "ticks": ""
            },
            "colorscale": [
             [
              0,
              "#0d0887"
             ],
             [
              0.1111111111111111,
              "#46039f"
             ],
             [
              0.2222222222222222,
              "#7201a8"
             ],
             [
              0.3333333333333333,
              "#9c179e"
             ],
             [
              0.4444444444444444,
              "#bd3786"
             ],
             [
              0.5555555555555556,
              "#d8576b"
             ],
             [
              0.6666666666666666,
              "#ed7953"
             ],
             [
              0.7777777777777778,
              "#fb9f3a"
             ],
             [
              0.8888888888888888,
              "#fdca26"
             ],
             [
              1,
              "#f0f921"
             ]
            ],
            "type": "heatmapgl"
           }
          ],
          "histogram": [
           {
            "marker": {
             "pattern": {
              "fillmode": "overlay",
              "size": 10,
              "solidity": 0.2
             }
            },
            "type": "histogram"
           }
          ],
          "histogram2d": [
           {
            "colorbar": {
             "outlinewidth": 0,
             "ticks": ""
            },
            "colorscale": [
             [
              0,
              "#0d0887"
             ],
             [
              0.1111111111111111,
              "#46039f"
             ],
             [
              0.2222222222222222,
              "#7201a8"
             ],
             [
              0.3333333333333333,
              "#9c179e"
             ],
             [
              0.4444444444444444,
              "#bd3786"
             ],
             [
              0.5555555555555556,
              "#d8576b"
             ],
             [
              0.6666666666666666,
              "#ed7953"
             ],
             [
              0.7777777777777778,
              "#fb9f3a"
             ],
             [
              0.8888888888888888,
              "#fdca26"
             ],
             [
              1,
              "#f0f921"
             ]
            ],
            "type": "histogram2d"
           }
          ],
          "histogram2dcontour": [
           {
            "colorbar": {
             "outlinewidth": 0,
             "ticks": ""
            },
            "colorscale": [
             [
              0,
              "#0d0887"
             ],
             [
              0.1111111111111111,
              "#46039f"
             ],
             [
              0.2222222222222222,
              "#7201a8"
             ],
             [
              0.3333333333333333,
              "#9c179e"
             ],
             [
              0.4444444444444444,
              "#bd3786"
             ],
             [
              0.5555555555555556,
              "#d8576b"
             ],
             [
              0.6666666666666666,
              "#ed7953"
             ],
             [
              0.7777777777777778,
              "#fb9f3a"
             ],
             [
              0.8888888888888888,
              "#fdca26"
             ],
             [
              1,
              "#f0f921"
             ]
            ],
            "type": "histogram2dcontour"
           }
          ],
          "mesh3d": [
           {
            "colorbar": {
             "outlinewidth": 0,
             "ticks": ""
            },
            "type": "mesh3d"
           }
          ],
          "parcoords": [
           {
            "line": {
             "colorbar": {
              "outlinewidth": 0,
              "ticks": ""
             }
            },
            "type": "parcoords"
           }
          ],
          "pie": [
           {
            "automargin": true,
            "type": "pie"
           }
          ],
          "scatter": [
           {
            "fillpattern": {
             "fillmode": "overlay",
             "size": 10,
             "solidity": 0.2
            },
            "type": "scatter"
           }
          ],
          "scatter3d": [
           {
            "line": {
             "colorbar": {
              "outlinewidth": 0,
              "ticks": ""
             }
            },
            "marker": {
             "colorbar": {
              "outlinewidth": 0,
              "ticks": ""
             }
            },
            "type": "scatter3d"
           }
          ],
          "scattercarpet": [
           {
            "marker": {
             "colorbar": {
              "outlinewidth": 0,
              "ticks": ""
             }
            },
            "type": "scattercarpet"
           }
          ],
          "scattergeo": [
           {
            "marker": {
             "colorbar": {
              "outlinewidth": 0,
              "ticks": ""
             }
            },
            "type": "scattergeo"
           }
          ],
          "scattergl": [
           {
            "marker": {
             "colorbar": {
              "outlinewidth": 0,
              "ticks": ""
             }
            },
            "type": "scattergl"
           }
          ],
          "scattermapbox": [
           {
            "marker": {
             "colorbar": {
              "outlinewidth": 0,
              "ticks": ""
             }
            },
            "type": "scattermapbox"
           }
          ],
          "scatterpolar": [
           {
            "marker": {
             "colorbar": {
              "outlinewidth": 0,
              "ticks": ""
             }
            },
            "type": "scatterpolar"
           }
          ],
          "scatterpolargl": [
           {
            "marker": {
             "colorbar": {
              "outlinewidth": 0,
              "ticks": ""
             }
            },
            "type": "scatterpolargl"
           }
          ],
          "scatterternary": [
           {
            "marker": {
             "colorbar": {
              "outlinewidth": 0,
              "ticks": ""
             }
            },
            "type": "scatterternary"
           }
          ],
          "surface": [
           {
            "colorbar": {
             "outlinewidth": 0,
             "ticks": ""
            },
            "colorscale": [
             [
              0,
              "#0d0887"
             ],
             [
              0.1111111111111111,
              "#46039f"
             ],
             [
              0.2222222222222222,
              "#7201a8"
             ],
             [
              0.3333333333333333,
              "#9c179e"
             ],
             [
              0.4444444444444444,
              "#bd3786"
             ],
             [
              0.5555555555555556,
              "#d8576b"
             ],
             [
              0.6666666666666666,
              "#ed7953"
             ],
             [
              0.7777777777777778,
              "#fb9f3a"
             ],
             [
              0.8888888888888888,
              "#fdca26"
             ],
             [
              1,
              "#f0f921"
             ]
            ],
            "type": "surface"
           }
          ],
          "table": [
           {
            "cells": {
             "fill": {
              "color": "#EBF0F8"
             },
             "line": {
              "color": "white"
             }
            },
            "header": {
             "fill": {
              "color": "#C8D4E3"
             },
             "line": {
              "color": "white"
             }
            },
            "type": "table"
           }
          ]
         },
         "layout": {
          "annotationdefaults": {
           "arrowcolor": "#2a3f5f",
           "arrowhead": 0,
           "arrowwidth": 1
          },
          "autotypenumbers": "strict",
          "coloraxis": {
           "colorbar": {
            "outlinewidth": 0,
            "ticks": ""
           }
          },
          "colorscale": {
           "diverging": [
            [
             0,
             "#8e0152"
            ],
            [
             0.1,
             "#c51b7d"
            ],
            [
             0.2,
             "#de77ae"
            ],
            [
             0.3,
             "#f1b6da"
            ],
            [
             0.4,
             "#fde0ef"
            ],
            [
             0.5,
             "#f7f7f7"
            ],
            [
             0.6,
             "#e6f5d0"
            ],
            [
             0.7,
             "#b8e186"
            ],
            [
             0.8,
             "#7fbc41"
            ],
            [
             0.9,
             "#4d9221"
            ],
            [
             1,
             "#276419"
            ]
           ],
           "sequential": [
            [
             0,
             "#0d0887"
            ],
            [
             0.1111111111111111,
             "#46039f"
            ],
            [
             0.2222222222222222,
             "#7201a8"
            ],
            [
             0.3333333333333333,
             "#9c179e"
            ],
            [
             0.4444444444444444,
             "#bd3786"
            ],
            [
             0.5555555555555556,
             "#d8576b"
            ],
            [
             0.6666666666666666,
             "#ed7953"
            ],
            [
             0.7777777777777778,
             "#fb9f3a"
            ],
            [
             0.8888888888888888,
             "#fdca26"
            ],
            [
             1,
             "#f0f921"
            ]
           ],
           "sequentialminus": [
            [
             0,
             "#0d0887"
            ],
            [
             0.1111111111111111,
             "#46039f"
            ],
            [
             0.2222222222222222,
             "#7201a8"
            ],
            [
             0.3333333333333333,
             "#9c179e"
            ],
            [
             0.4444444444444444,
             "#bd3786"
            ],
            [
             0.5555555555555556,
             "#d8576b"
            ],
            [
             0.6666666666666666,
             "#ed7953"
            ],
            [
             0.7777777777777778,
             "#fb9f3a"
            ],
            [
             0.8888888888888888,
             "#fdca26"
            ],
            [
             1,
             "#f0f921"
            ]
           ]
          },
          "colorway": [
           "#636efa",
           "#EF553B",
           "#00cc96",
           "#ab63fa",
           "#FFA15A",
           "#19d3f3",
           "#FF6692",
           "#B6E880",
           "#FF97FF",
           "#FECB52"
          ],
          "font": {
           "color": "#2a3f5f"
          },
          "geo": {
           "bgcolor": "white",
           "lakecolor": "white",
           "landcolor": "#E5ECF6",
           "showlakes": true,
           "showland": true,
           "subunitcolor": "white"
          },
          "hoverlabel": {
           "align": "left"
          },
          "hovermode": "closest",
          "mapbox": {
           "style": "light"
          },
          "paper_bgcolor": "white",
          "plot_bgcolor": "#E5ECF6",
          "polar": {
           "angularaxis": {
            "gridcolor": "white",
            "linecolor": "white",
            "ticks": ""
           },
           "bgcolor": "#E5ECF6",
           "radialaxis": {
            "gridcolor": "white",
            "linecolor": "white",
            "ticks": ""
           }
          },
          "scene": {
           "xaxis": {
            "backgroundcolor": "#E5ECF6",
            "gridcolor": "white",
            "gridwidth": 2,
            "linecolor": "white",
            "showbackground": true,
            "ticks": "",
            "zerolinecolor": "white"
           },
           "yaxis": {
            "backgroundcolor": "#E5ECF6",
            "gridcolor": "white",
            "gridwidth": 2,
            "linecolor": "white",
            "showbackground": true,
            "ticks": "",
            "zerolinecolor": "white"
           },
           "zaxis": {
            "backgroundcolor": "#E5ECF6",
            "gridcolor": "white",
            "gridwidth": 2,
            "linecolor": "white",
            "showbackground": true,
            "ticks": "",
            "zerolinecolor": "white"
           }
          },
          "shapedefaults": {
           "line": {
            "color": "#2a3f5f"
           }
          },
          "ternary": {
           "aaxis": {
            "gridcolor": "white",
            "linecolor": "white",
            "ticks": ""
           },
           "baxis": {
            "gridcolor": "white",
            "linecolor": "white",
            "ticks": ""
           },
           "bgcolor": "#E5ECF6",
           "caxis": {
            "gridcolor": "white",
            "linecolor": "white",
            "ticks": ""
           }
          },
          "title": {
           "x": 0.05
          },
          "xaxis": {
           "automargin": true,
           "gridcolor": "white",
           "linecolor": "white",
           "ticks": "",
           "title": {
            "standoff": 15
           },
           "zerolinecolor": "white",
           "zerolinewidth": 2
          },
          "yaxis": {
           "automargin": true,
           "gridcolor": "white",
           "linecolor": "white",
           "ticks": "",
           "title": {
            "standoff": 15
           },
           "zerolinecolor": "white",
           "zerolinewidth": 2
          }
         }
        },
        "title": {
         "text": "K-Means Clustering",
         "x": 0.5,
         "xanchor": "center"
        },
        "width": 1000,
        "xaxis": {
         "anchor": "y",
         "domain": [
          0,
          1
         ],
         "gridcolor": "lightgrey",
         "showgrid": true,
         "title": {
          "text": "MDS1"
         },
         "zeroline": false
        },
        "yaxis": {
         "anchor": "x",
         "domain": [
          0,
          1
         ],
         "gridcolor": "lightgrey",
         "range": [
          -0.8250961273536384,
          0.8250961273536384
         ],
         "showgrid": true,
         "title": {
          "text": "MDS2"
         },
         "zeroline": false
        }
       }
      }
     },
     "metadata": {},
     "output_type": "display_data"
    },
    {
     "name": "stdout",
     "output_type": "stream",
     "text": [
      "{'Silhouette Score': 0.334029708567554, 'Davies-Bouldin Index': 0.8321070677793461}\n"
     ]
    }
   ],
   "source": [
    "# this function runs the KMeans with MDS and calculates validation metrics, it takes the normailized distance matrix and labels as input,\n",
    "# we have 7 pre-defined tunnels for the WT and the data points should be mapped to these depending on the distance and form a cluster\n",
    "def run_kmeans_mds_with_metrics(distance_matrix_file=\"/DTW/normalized_output.csv\",labels_file=\"/DTW/labels.csv\",n_clusters=7):\n",
    "    #Load the normalised distance matrix and labels\n",
    "    distance_matrix = pd.read_csv(distance_matrix_file, index_col=0)\n",
    "    labels = pd.read_csv(labels_file, header=None)\n",
    "\n",
    "    trajectory_names = distance_matrix.index.tolist()\n",
    "    group_labels = labels[1].tolist() # index 2 would be the primary and secondary group mapping, can be seen in the labels.csv file\n",
    "\n",
    "    if len(trajectory_names) != len(group_labels): ## Checks if the distance matrix and labels have the same length\n",
    "        raise ValueError(\"Distance matrix and labels must have the same length.\")\n",
    "\n",
    "    # Preprocess distance matrix \n",
    "    distance_matrix = distance_matrix.replace([np.inf, -np.inf], np.nan).fillna(0)\n",
    "    np.fill_diagonal(distance_matrix.values, 0)\n",
    "    distance_matrix = (distance_matrix + distance_matrix.T) / 2\n",
    "\n",
    "    # Normalize the distance matrix\n",
    "    scaler = StandardScaler()\n",
    "    normalized_distance_matrix = scaler.fit_transform(distance_matrix.values)\n",
    "    normalized_distance_matrix = (normalized_distance_matrix + normalized_distance_matrix.T) / 2\n",
    "\n",
    "    # MDS\n",
    "    mds = MDS(n_components=2, dissimilarity='precomputed', random_state=42)\n",
    "    mds_transformed = mds.fit_transform(normalized_distance_matrix)\n",
    "\n",
    "    # K-Means\n",
    "    kmeans = KMeans(n_clusters=n_clusters, random_state=42, init='k-means++')\n",
    "    kmeans_labels = kmeans.fit_predict(mds_transformed)\n",
    "\n",
    "    # Calculate metrics\n",
    "    silhouette_avg = silhouette_score(mds_transformed, kmeans_labels)\n",
    "    db_index = davies_bouldin_score(mds_transformed, kmeans_labels)\n",
    "\n",
    "    # DataFrame for plotting\n",
    "    plot_df = pd.DataFrame({\n",
    "        \"MDS1\": mds_transformed[:, 0],\n",
    "        \"MDS2\": mds_transformed[:, 1],\n",
    "        \"Cluster\": kmeans_labels,\n",
    "        \"Trajectory\": trajectory_names,\n",
    "        \"Group\": group_labels\n",
    "    })\n",
    "\n",
    "    # Sort by group\n",
    "    plot_df[\"Group\"] = pd.Categorical(plot_df[\"Group\"], categories=sorted(set(group_labels)), ordered=True)\n",
    "    plot_df = plot_df.sort_values(\"Group\")\n",
    "\n",
    "    y_max = max(abs(plot_df[\"MDS2\"].min()), abs(plot_df[\"MDS2\"].max())) + 0.1\n",
    "\n",
    "    # Plot\n",
    "    fig = px.scatter(\n",
    "        plot_df, x=\"MDS1\", y=\"MDS2\", color=\"Group\",\n",
    "        hover_data={\"MDS1\": False, \"MDS2\": False, \"Trajectory\": True, \"Group\": True},\n",
    "        title=\"K-Means Clustering\",\n",
    "        color_discrete_sequence=px.colors.qualitative.Bold\n",
    "    )\n",
    "\n",
    "    fig.update_layout(\n",
    "        legend=dict(\n",
    "            title=\"Groups\",\n",
    "            orientation=\"v\",\n",
    "            yanchor=\"top\",\n",
    "            y=1,\n",
    "            xanchor=\"left\",\n",
    "            x=1.02\n",
    "        ),\n",
    "        autosize=False,\n",
    "        width=1000,\n",
    "        height=800,\n",
    "        plot_bgcolor=\"white\",\n",
    "        paper_bgcolor=\"white\",\n",
    "        xaxis=dict(showgrid=True, gridcolor=\"lightgrey\", zeroline=False),\n",
    "        yaxis=dict(showgrid=True, gridcolor=\"lightgrey\", zeroline=False, range=[-y_max, y_max]),\n",
    "        margin=dict(l=50, r=50, b=50, t=50, pad=10),\n",
    "        title=dict(text=\"K-Means Clustering\", x=0.5, xanchor=\"center\"),\n",
    "        shapes=[dict(type=\"rect\", xref=\"paper\", yref=\"paper\",\n",
    "                     x0=0, y0=0, x1=1, y1=1,\n",
    "                     line=dict(color=\"black\", width=2))]\n",
    "    )\n",
    "\n",
    "    return fig, {\"Silhouette Score\": silhouette_avg, \"Davies-Bouldin Index\": db_index}\n",
    "\n",
    "fig, metrics = run_kmeans_mds_with_metrics(\"/Users/aliakbarhasnain/Desktop/unsupervised_learning/DTW/normalized_output.csv\", \"/Users/aliakbarhasnain/Desktop/unsupervised_learning/DTW/labels.csv\", n_clusters=7)\n",
    "\n",
    "fig.show()\n",
    "print(metrics)\n"
   ]
  },
  {
   "cell_type": "markdown",
   "id": "a8d32273",
   "metadata": {},
   "source": [
    "## Hierarchical Clustering with Validation"
   ]
  },
  {
   "cell_type": "code",
   "execution_count": null,
   "id": "67b32732",
   "metadata": {},
   "outputs": [
    {
     "name": "stdout",
     "output_type": "stream",
     "text": [
      "Performing clustering with linkage method: complete\n"
     ]
    },
    {
     "data": {
      "image/png": "[encoded data removed]",
      "text/plain": [
       "<Figure size 1500x1000 with 1 Axes>"
      ]
     },
     "metadata": {},
     "output_type": "display_data"
    },
    {
     "name": "stdout",
     "output_type": "stream",
     "text": [
      "Silhouette Score: 0.1387\n",
      "Davies-Bouldin Index: 1.5699\n"
     ]
    }
   ],
   "source": [
    "\n",
    "# get the data with the paths \n",
    "distance_matrix_file = \"/DTW/normalized_output.csv\"\n",
    "labels_file = \"/DTW/labels.csv\"\n",
    "linkage_method = 'complete'# complete is the commonly used method for hierarchical clustering\n",
    "\n",
    "# Load Data\n",
    "distance_matrix = pd.read_csv(distance_matrix_file, index_col=0)\n",
    "labels_df = pd.read_csv(labels_file, header=None)\n",
    "tick_labels = [f\"Trajectory_{name.replace('.csv', '').split('_')[-1]}\" for name in distance_matrix.index]\n",
    "color_labels = labels_df[1].tolist()\n",
    "\n",
    "assert distance_matrix.shape[0] == distance_matrix.shape[1] == len(color_labels), \\\n",
    "    \"Distance matrix and labels must have the same dimensions.\"\n",
    "\n",
    "# Preprocess Matrix \n",
    "distance_matrix = distance_matrix.replace([np.inf, -np.inf], np.nan).fillna(0)\n",
    "np.fill_diagonal(distance_matrix.values, 0)\n",
    "\n",
    "# Clustering \n",
    "n_clusters = len(set(color_labels))\n",
    "print(f\"Performing clustering with linkage method: {linkage_method}\")\n",
    "clustering_model = AgglomerativeClustering(\n",
    "    n_clusters=n_clusters, \n",
    "    metric=\"precomputed\", \n",
    "    linkage=linkage_method\n",
    ")\n",
    "cluster_assignments = clustering_model.fit_predict(distance_matrix.values)\n",
    "\n",
    "# Label to Color Mapping\n",
    "unique_labels = sorted(set(color_labels))\n",
    "label_to_color = {label: idx for idx, label in enumerate(unique_labels)}\n",
    "cmap = ListedColormap(plt.cm.tab10.colors[:len(unique_labels)])\n",
    "\n",
    "# Plotting Function\n",
    "def plot_colored_dendrogram(linkage_matrix, labels, color_labels, threshold=0.0):\n",
    "    plt.figure(figsize=(15, 10))\n",
    "    dendro = dendrogram(\n",
    "        linkage_matrix,\n",
    "        labels=labels,\n",
    "        leaf_rotation=90,\n",
    "        leaf_font_size=10,\n",
    "        above_threshold_color=\"black\",\n",
    "        color_threshold=threshold\n",
    "    )\n",
    "\n",
    "    ax = plt.gca()\n",
    "    icoords = np.array(dendro['icoord'])\n",
    "    dcoords = np.array(dendro['dcoord'])\n",
    "    xlbls = ax.get_xmajorticklabels()\n",
    "\n",
    "    # Color each linkage line based on leaf label\n",
    "    colors = [label_to_color[color_labels[labels.index(lbl.get_text())]] for lbl in xlbls]\n",
    "    for xs, ys, c in zip(icoords, dcoords, colors):\n",
    "        ax.plot(xs, ys, color=cmap(c))\n",
    "\n",
    "    # Add legend\n",
    "    for idx, label in enumerate(unique_labels):\n",
    "        plt.plot([], [], label=label, color=cmap(idx))\n",
    "    plt.legend(title=\"Labels\", bbox_to_anchor=(1.05, 1), loc='upper left', fontsize=18)\n",
    "\n",
    "    plt.title(\"Agglomerative Clustering Dendrogram\")\n",
    "    plt.xlabel(\"Files\")\n",
    "    plt.ylabel(\"Distance\")\n",
    "    plt.xticks(rotation=90)\n",
    "    plt.yticks(fontsize=12)\n",
    "    plt.tick_params(axis='x', labelsize=12)\n",
    "    plt.tick_params(axis='y', labelsize=12)\n",
    "    plt.tight_layout()\n",
    "    plt.show()\n",
    "\n",
    "# Linkage Matrix & Plot \n",
    "linkage_matrix = linkage(squareform(distance_matrix.values), method=linkage_method)\n",
    "threshold = 0.2 * max(linkage_matrix[:, 2])\n",
    "plot_colored_dendrogram(linkage_matrix, tick_labels, color_labels, threshold)\n",
    "\n",
    "from sklearn.metrics import silhouette_score, davies_bouldin_score\n",
    "\n",
    "# Compute Silhouette Score\n",
    "silhouette_avg = silhouette_score(distance_matrix, cluster_assignments, metric='precomputed')\n",
    "print(f\"Silhouette Score: {silhouette_avg:.4f}\")\n",
    "\n",
    "# Compute Davies-Bouldin Index\n",
    "db_index = davies_bouldin_score(distance_matrix, cluster_assignments)\n",
    "print(f\"Davies-Bouldin Index: {db_index:.4f}\")\n",
    "\n"
   ]
  },
  {
   "cell_type": "markdown",
   "id": "bd06c7da",
   "metadata": {},
   "source": [
    "## Evaluation of the calculated distances"
   ]
  },
  {
   "cell_type": "code",
   "execution_count": null,
   "id": "457c2c2b",
   "metadata": {},
   "outputs": [
    {
     "data": {
      "image/png": "[encoded data removed]",
      "text/plain": [
       "<Figure size 1000x600 with 1 Axes>"
      ]
     },
     "metadata": {},
     "output_type": "display_data"
    },
    {
     "data": {
      "image/png": "[encoded data removed]",
      "text/plain": [
       "<Figure size 1000x600 with 1 Axes>"
      ]
     },
     "metadata": {},
     "output_type": "display_data"
    }
   ],
   "source": [
    "# this codeblock plots the shortest and farthest distance pairs from the distance matrix, inorder to evaualate the pairwise distances\n",
    "#Load and preprocess data \n",
    "# here we are using the primary and secondary groups instead of the 7 tunnels\n",
    "distance_matrix = pd.read_csv(\"/DTW/normalized_output.csv\", index_col=0)\n",
    "labels_df = pd.read_csv(\"/DTW/labels.csv\", header=None)\n",
    "\n",
    "# Clean trajectory names like \"contacts_chain_AB_65\" to \"Trajectory_65\"\n",
    "trajectory_names = [f\"Trajectory_{name.replace('.csv', '').split('_')[-1]}\" for name in distance_matrix.index]\n",
    "\n",
    "\n",
    "# Extract the last column of labels and map to short codes\n",
    "raw_groups = labels_df.iloc[:, -1].astype(str)\n",
    "group_labels = raw_groups.replace({\n",
    "    'primary-secondary': 'P-S',\n",
    "    'Primary': 'P',\n",
    "    'Secondary': 'S'\n",
    "}).tolist()\n",
    "\n",
    "# Preprocess the distance matrix\n",
    "distance_matrix = distance_matrix.replace([np.inf, -np.inf], np.nan).fillna(0)\n",
    "np.fill_diagonal(distance_matrix.values, 0)\n",
    "distance_matrix = (distance_matrix + distance_matrix.T) / 2  # Ensure symmetry\n",
    "\n",
    "# Get upper triangle indices\n",
    "triu_indices = np.triu_indices(len(distance_matrix), k=1)\n",
    "pairwise_distances = distance_matrix.values[triu_indices]\n",
    "\n",
    "# Sort distances and get top 10 smallest and largest\n",
    "sorted_indices = np.argsort(pairwise_distances)\n",
    "shortest_indices = sorted_indices[:10]\n",
    "farthest_indices = sorted_indices[-10:]\n",
    "\n",
    "# Helper function to prepare pairs\n",
    "def extract_pairs(indices):\n",
    "    pairs = []\n",
    "    for idx in indices:\n",
    "        i, j = triu_indices[0][idx], triu_indices[1][idx]\n",
    "        traj_i = trajectory_names[i]\n",
    "        traj_j = trajectory_names[j]\n",
    "        group_i = group_labels[i]\n",
    "        group_j = group_labels[j]\n",
    "        dist = distance_matrix.values[i, j]\n",
    "        label = f\"{traj_i} – {traj_j}\"\n",
    "        pairs.append((label, group_i, group_j, dist))\n",
    "    return pairs\n",
    "\n",
    "shortest = extract_pairs(shortest_indices)\n",
    "farthest = extract_pairs(farthest_indices)\n",
    "\n",
    "# Plotting\n",
    "import matplotlib.pyplot as plt\n",
    "import matplotlib.patches as mpatches\n",
    "\n",
    "def plot_distance_panel(data, title, filename):\n",
    "    labels = []\n",
    "    distances = []\n",
    "    colors = []\n",
    "\n",
    "    for label, g1, g2, dist in data:\n",
    "        labels.append(label)\n",
    "        distances.append(dist)\n",
    "        same_group = (g1 == g2)\n",
    "        colors.append(\"green\" if same_group else \"red\")\n",
    "\n",
    "    fig, ax = plt.subplots(figsize=(10, 6))  # Individual figure\n",
    "    bars = ax.barh(labels, distances, color=colors)\n",
    "    ax.set_title(title, fontsize=14)\n",
    "    ax.set_xlabel(\"Distance\", fontsize=12)\n",
    "    ax.invert_yaxis()\n",
    "\n",
    "    # Write text inside the bar\n",
    "    for bar, (_, g1, g2, dist) in zip(bars, data):\n",
    "        x_pos = bar.get_width() / 2\n",
    "        y_pos = bar.get_y() + bar.get_height() / 2\n",
    "        ax.text(x_pos, y_pos, f\"Distance: {dist:.2f} Group: ({g1}-{g2})\", va='center', ha='center', fontsize=9, color='white', weight='bold')\n",
    "\n",
    "    # Legend\n",
    "    same_patch = mpatches.Patch(color='green', label='Same Group')\n",
    "    diff_patch = mpatches.Patch(color='red', label='Different Groups')\n",
    "    fig.legend(handles=[same_patch, diff_patch], loc='lower right', ncol=2, fontsize=10)\n",
    "\n",
    "    # Leave room for bottom text\n",
    "    plt.tight_layout(rect=[0, 0.07, 1, 1])\n",
    "\n",
    "    # Explanatory text\n",
    "    fig.text(\n",
    "        0.5, 0.02,  # centered below the plot\n",
    "        \"Binary classification groups: P = Primary, S = Secondary\",\n",
    "        ha='right',\n",
    "        fontsize=10,\n",
    "        style='italic'\n",
    "    )\n",
    "\n",
    "    # Save and show\n",
    "    plt.savefig(filename, dpi=300)\n",
    "    plt.show()\n",
    "\n",
    "# Call the function for both plots\n",
    "plot_distance_panel(shortest, \"Shortest Distance Pairs\", \"shortest_distance_plot.png\")\n",
    "plot_distance_panel(farthest, \"Farthest Distance Pairs\", \"farthest_distance_plot.png\")\n"
   ]
  }
 ],
 "metadata": {
  "kernelspec": {
   "display_name": "venv",
   "language": "python",
   "name": "python3"
  },
  "language_info": {
   "codemirror_mode": {
    "name": "ipython",
    "version": 3
   },
   "file_extension": ".py",
   "mimetype": "text/x-python",
   "name": "python",
   "nbconvert_exporter": "python",
   "pygments_lexer": "ipython3",
   "version": "3.9.12"
  }
 },
 "nbformat": 4,
 "nbformat_minor": 5
}
